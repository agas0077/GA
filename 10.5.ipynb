{
 "metadata": {
  "language_info": {
   "codemirror_mode": {
    "name": "ipython",
    "version": 3
   },
   "file_extension": ".py",
   "mimetype": "text/x-python",
   "name": "python",
   "nbconvert_exporter": "python",
   "pygments_lexer": "ipython3",
   "version": "3.8.5-final"
  },
  "orig_nbformat": 2,
  "kernelspec": {
   "name": "python3",
   "display_name": "Python 3.8.5 64-bit",
   "metadata": {
    "interpreter": {
     "hash": "1baa965d5efe3ac65b79dfc60c0d706280b1da80fedb7760faf2759126c4f253"
    }
   }
  }
 },
 "nbformat": 4,
 "nbformat_minor": 2,
 "cells": [
  {
   "cell_type": "code",
   "execution_count": 1,
   "metadata": {},
   "outputs": [
    {
     "output_type": "stream",
     "name": "stdout",
     "text": [
      "The best state found is:  [2 3 1 8 5 7 6 0 4]\nThe fitness at the best state is:  241.0\n"
     ]
    }
   ],
   "source": [
    "import six\n",
    "import sys\n",
    "sys.modules['sklearn.externals.six'] = six\n",
    "import mlrose\n",
    "import numpy as np\n",
    "\n",
    "dist_list = [(0, 1, 115), (0, 2, 230), (0, 3, 100), (0, 4, 45), (0, 5, 200), (0, 6, 29), (0, 7, 35), (0, 8, 70), \n",
    "(1, 2, 75), (1, 3, 54), (1, 4, 90), (1, 5, 250), (1, 6, 110), (1, 7, 99), (1, 8, 17), \n",
    "(2, 3, 35), (2, 4, 10), (2, 5, 30), (2, 6, 80), (2, 7, 16), (2, 8, 48), \n",
    "(4, 5, 117), (4, 6, 34), (4, 7, 90), (4, 8, 54), (4, 9, 39), \n",
    "(4, 5, 15), (4, 6, 110), (4, 7, 95), (4, 8, 80), \n",
    "(5, 6, 190), (5, 7, 16), (5, 8, 25), \n",
    "(6, 7, 10), (6, 8, 30), \n",
    "(7, 8, 5)]\n",
    "\n",
    "fitness_dists = mlrose.TravellingSales(distances = dist_list)\n",
    "\n",
    "problem_fit = mlrose.TSPOpt(length = 9, fitness_fn  = fitness_dists,\n",
    "                            maximize=False)\n",
    "\n",
    "best_state, best_fitness = mlrose.genetic_alg(problem_fit, mutation_prob = .3, \n",
    "\t\t\t\t\t      max_attempts = 10, random_state = 1)\n",
    "\n",
    "print('The best state found is: ', best_state)\n",
    "\n",
    "print('The fitness at the best state is: ', best_fitness)"
   ]
  },
  {
   "cell_type": "code",
   "execution_count": null,
   "metadata": {},
   "outputs": [],
   "source": []
  }
 ]
}